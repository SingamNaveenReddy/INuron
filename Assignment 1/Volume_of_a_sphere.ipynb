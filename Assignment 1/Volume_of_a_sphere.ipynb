{
  "nbformat": 4,
  "nbformat_minor": 0,
  "metadata": {
    "colab": {
      "name": "Volume of a sphere",
      "provenance": [],
      "collapsed_sections": []
    },
    "kernelspec": {
      "name": "python3",
      "display_name": "Python 3"
    },
    "language_info": {
      "name": "python"
    }
  },
  "cells": [
    {
      "cell_type": "code",
      "metadata": {
        "colab": {
          "base_uri": "https://localhost:8080/"
        },
        "id": "N5CIEsyRFSA6",
        "outputId": "2ded4aa5-0703-4c77-fc0d-00a3bc7f153f"
      },
      "source": [
        "import math\n",
        "\n",
        "Diameter = 12\n",
        "raidus = Diameter/2\n",
        "Volume = (4/3) *  (math.pi) * (raidus)**3\n",
        "print(Volume)"
      ],
      "execution_count": null,
      "outputs": [
        {
          "output_type": "stream",
          "name": "stdout",
          "text": [
            "904.7786842338603\n"
          ]
        }
      ]
    }
  ]
}