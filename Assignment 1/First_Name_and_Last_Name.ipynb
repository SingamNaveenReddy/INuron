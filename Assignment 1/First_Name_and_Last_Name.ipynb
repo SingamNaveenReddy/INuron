{
  "nbformat": 4,
  "nbformat_minor": 0,
  "metadata": {
    "colab": {
      "name": "First_Name and Last_Name.ipynb",
      "provenance": [],
      "collapsed_sections": [],
      "toc_visible": true
    },
    "kernelspec": {
      "name": "python3",
      "display_name": "Python 3"
    },
    "language_info": {
      "name": "python"
    }
  },
  "cells": [
    {
      "cell_type": "code",
      "metadata": {
        "colab": {
          "base_uri": "https://localhost:8080/"
        },
        "id": "j0GFdCNWFWnf",
        "outputId": "ebf1e37d-a525-4fe6-a708-35ab314fe90c"
      },
      "source": [
        "First_Name = str(input(\"Provide First Name \"))\n",
        "Last_Name = str(input(\"Provide Last Name \"))\n",
        "First_Name = First_Name[::-1]\n",
        "Last_Name = Last_Name[::-1]\n",
        "print(First_Name + \" \" + Last_Name)"
      ],
      "execution_count": 7,
      "outputs": [
        {
          "output_type": "stream",
          "name": "stdout",
          "text": [
            "Provide First Name naveen\n",
            "Provide Last Name reddy\n",
            "neevan ydder\n"
          ]
        }
      ]
    },
    {
      "cell_type": "code",
      "metadata": {
        "id": "MkwuJLU8FnGD"
      },
      "source": [
        ""
      ],
      "execution_count": null,
      "outputs": []
    }
  ]
}