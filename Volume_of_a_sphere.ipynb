{
  "nbformat": 4,
  "nbformat_minor": 0,
  "metadata": {
    "colab": {
      "name": "Volume of a sphere",
      "provenance": [],
      "collapsed_sections": [],
      "authorship_tag": "ABX9TyMENZLbcVDu7o/8dIbJOPQr",
      "include_colab_link": true
    },
    "kernelspec": {
      "name": "python3",
      "display_name": "Python 3"
    },
    "language_info": {
      "name": "python"
    }
  },
  "cells": [
    {
      "cell_type": "markdown",
      "metadata": {
        "id": "view-in-github",
        "colab_type": "text"
      },
      "source": [
        "<a href=\"https://colab.research.google.com/github/SingamNaveenReddy/INuron/blob/main/Volume_of_a_sphere.ipynb\" target=\"_parent\"><img src=\"https://colab.research.google.com/assets/colab-badge.svg\" alt=\"Open In Colab\"/></a>"
      ]
    },
    {
      "cell_type": "code",
      "metadata": {
        "colab": {
          "base_uri": "https://localhost:8080/"
        },
        "id": "N5CIEsyRFSA6",
        "outputId": "2ded4aa5-0703-4c77-fc0d-00a3bc7f153f"
      },
      "source": [
        "import math\n",
        "\n",
        "Diameter = 12\n",
        "raidus = Diameter/2\n",
        "Volume = (4/3) *  (math.pi) * (raidus)**3\n",
        "print(Volume)"
      ],
      "execution_count": 3,
      "outputs": [
        {
          "output_type": "stream",
          "name": "stdout",
          "text": [
            "904.7786842338603\n"
          ]
        }
      ]
    }
  ]
}